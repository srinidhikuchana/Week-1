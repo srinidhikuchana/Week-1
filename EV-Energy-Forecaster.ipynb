{
 "cells": [
  {
   "cell_type": "code",
   "execution_count": null,
   "id": "d3aaa34f-7fa1-40be-a99a-5d89ff94bc50",
   "metadata": {},
   "outputs": [
    {
     "name": "stdout",
     "output_type": "stream",
     "text": [
      "   Vehicle_ID            Timestamp   Speed_kmh  Acceleration_ms2  \\\n",
      "0        1102  2024-01-01 00:00:00  111.507366         -2.773816   \n",
      "1        1435  2024-01-01 00:01:00   48.612323         -0.796982   \n",
      "2        1860  2024-01-01 00:02:00  108.733320          0.253800   \n",
      "3        1270  2024-01-01 00:03:00   38.579484         -2.111395   \n",
      "4        1106  2024-01-01 00:04:00   57.172438          1.477883   \n",
      "\n",
      "   Battery_State_%  Battery_Voltage_V  Battery_Temperature_C  Driving_Mode  \\\n",
      "0        30.415148         378.091525              25.314786             2   \n",
      "1        97.385534         392.718377              18.240755             1   \n",
      "2        84.912600         398.993495              44.449145             1   \n",
      "3        28.777904         358.128273              28.980155             1   \n",
      "4        29.740160         310.888162              33.184551             2   \n",
      "\n",
      "   Road_Type  Traffic_Condition   Slope_%  Weather_Condition  Temperature_C  \\\n",
      "0          1                  1  6.879446                  4       0.741770   \n",
      "1          2                  1 -3.007212                  4      -3.495516   \n",
      "2          1                  3  0.029585                  1       9.248275   \n",
      "3          2                  2  8.271943                  3       2.868409   \n",
      "4          1                  1  2.776814                  2      16.750244   \n",
      "\n",
      "   Humidity_%  Wind_Speed_ms  Tire_Pressure_psi  Vehicle_Weight_kg  \\\n",
      "0   42.172533       7.829253          31.112020        1822.967368   \n",
      "1   57.018427       4.495572          31.504366        2091.831914   \n",
      "2   69.028911       5.144489          33.838015        1816.702497   \n",
      "3   86.638349       4.518283          33.256014        1283.102642   \n",
      "4   27.189185       4.263406          33.579678        2160.350788   \n",
      "\n",
      "   Distance_Travelled_km  Energy_Consumption_kWh  \n",
      "0              20.757508               12.054317  \n",
      "1               0.642918                4.488701  \n",
      "2              40.842824               11.701377  \n",
      "3               5.305229                7.389266  \n",
      "4               5.825926                6.761205  \n"
     ]
    }
   ],
   "source": [
    "\n",
    "import pandas as pd\n",
    "\n",
    "df = pd.read_csv(\"/Users/srinidhi/DATASETS/EV_Energy_Consumption_Dataset.csv\")\n",
    "print(df.head())"
   ]
  },
  {
   "cell_type": "code",
   "execution_count": 3,
   "id": "bb4b2306-00b5-4d5b-9d52-eb47164054f1",
   "metadata": {},
   "outputs": [
    {
     "name": "stdout",
     "output_type": "stream",
     "text": [
      "<class 'pandas.core.frame.DataFrame'>\n",
      "RangeIndex: 5000 entries, 0 to 4999\n",
      "Data columns (total 19 columns):\n",
      " #   Column                  Non-Null Count  Dtype  \n",
      "---  ------                  --------------  -----  \n",
      " 0   Vehicle_ID              5000 non-null   int64  \n",
      " 1   Timestamp               5000 non-null   object \n",
      " 2   Speed_kmh               5000 non-null   float64\n",
      " 3   Acceleration_ms2        5000 non-null   float64\n",
      " 4   Battery_State_%         5000 non-null   float64\n",
      " 5   Battery_Voltage_V       5000 non-null   float64\n",
      " 6   Battery_Temperature_C   5000 non-null   float64\n",
      " 7   Driving_Mode            5000 non-null   int64  \n",
      " 8   Road_Type               5000 non-null   int64  \n",
      " 9   Traffic_Condition       5000 non-null   int64  \n",
      " 10  Slope_%                 5000 non-null   float64\n",
      " 11  Weather_Condition       5000 non-null   int64  \n",
      " 12  Temperature_C           5000 non-null   float64\n",
      " 13  Humidity_%              5000 non-null   float64\n",
      " 14  Wind_Speed_ms           5000 non-null   float64\n",
      " 15  Tire_Pressure_psi       5000 non-null   float64\n",
      " 16  Vehicle_Weight_kg       5000 non-null   float64\n",
      " 17  Distance_Travelled_km   5000 non-null   float64\n",
      " 18  Energy_Consumption_kWh  5000 non-null   float64\n",
      "dtypes: float64(13), int64(5), object(1)\n",
      "memory usage: 742.3+ KB\n"
     ]
    }
   ],
   "source": [
    "df.info()"
   ]
  },
  {
   "cell_type": "code",
   "execution_count": null,
   "id": "eb8933e0-e729-4f09-be85-b4badbef52d1",
   "metadata": {},
   "outputs": [
    {
     "name": "stdout",
     "output_type": "stream",
     "text": [
      "--- Data Summary (df.info()) ---\n",
      "<class 'pandas.core.frame.DataFrame'>\n",
      "RangeIndex: 5000 entries, 0 to 4999\n",
      "Data columns (total 19 columns):\n",
      " #   Column                  Non-Null Count  Dtype  \n",
      "---  ------                  --------------  -----  \n",
      " 0   Vehicle_ID              5000 non-null   int64  \n",
      " 1   Timestamp               5000 non-null   object \n",
      " 2   Speed_kmh               5000 non-null   float64\n",
      " 3   Acceleration_ms2        5000 non-null   float64\n",
      " 4   Battery_State_%         5000 non-null   float64\n",
      " 5   Battery_Voltage_V       5000 non-null   float64\n",
      " 6   Battery_Temperature_C   5000 non-null   float64\n",
      " 7   Driving_Mode            5000 non-null   int64  \n",
      " 8   Road_Type               5000 non-null   int64  \n",
      " 9   Traffic_Condition       5000 non-null   int64  \n",
      " 10  Slope_%                 5000 non-null   float64\n",
      " 11  Weather_Condition       5000 non-null   int64  \n",
      " 12  Temperature_C           5000 non-null   float64\n",
      " 13  Humidity_%              5000 non-null   float64\n",
      " 14  Wind_Speed_ms           5000 non-null   float64\n",
      " 15  Tire_Pressure_psi       5000 non-null   float64\n",
      " 16  Vehicle_Weight_kg       5000 non-null   float64\n",
      " 17  Distance_Travelled_km   5000 non-null   float64\n",
      " 18  Energy_Consumption_kWh  5000 non-null   float64\n",
      "dtypes: float64(13), int64(5), object(1)\n",
      "memory usage: 742.3+ KB\n"
     ]
    }
   ],
   "source": [
    "\n",
    "print(\"--- Data Summary (df.info()) ---\")\n",
    "df.info()"
   ]
  },
  {
   "cell_type": "code",
   "execution_count": null,
   "id": "476145ae-7a8d-427b-a937-d17ea0cd9d5e",
   "metadata": {
    "scrolled": true
   },
   "outputs": [
    {
     "name": "stdout",
     "output_type": "stream",
     "text": [
      "Dropped Timestamp and Vehicle_ID columns.\n",
      "Performed one-hot encoding on categorical columns.\n",
      "\n",
      "--- Processed DataFrame (df_processed.head()) ---\n",
      "    Speed_kmh  Acceleration_ms2  Battery_State_%  Battery_Voltage_V  \\\n",
      "0  111.507366         -2.773816        30.415148         378.091525   \n",
      "1   48.612323         -0.796982        97.385534         392.718377   \n",
      "2  108.733320          0.253800        84.912600         398.993495   \n",
      "3   38.579484         -2.111395        28.777904         358.128273   \n",
      "4   57.172438          1.477883        29.740160         310.888162   \n",
      "\n",
      "   Battery_Temperature_C   Slope_%  Temperature_C  Humidity_%  Wind_Speed_ms  \\\n",
      "0              25.314786  6.879446       0.741770   42.172533       7.829253   \n",
      "1              18.240755 -3.007212      -3.495516   57.018427       4.495572   \n",
      "2              44.449145  0.029585       9.248275   69.028911       5.144489   \n",
      "3              28.980155  8.271943       2.868409   86.638349       4.518283   \n",
      "4              33.184551  2.776814      16.750244   27.189185       4.263406   \n",
      "\n",
      "   Tire_Pressure_psi  ...  Energy_Consumption_kWh  Driving_Mode_2  \\\n",
      "0          31.112020  ...               12.054317            True   \n",
      "1          31.504366  ...                4.488701           False   \n",
      "2          33.838015  ...               11.701377           False   \n",
      "3          33.256014  ...                7.389266           False   \n",
      "4          33.579678  ...                6.761205            True   \n",
      "\n",
      "   Driving_Mode_3  Road_Type_2  Road_Type_3  Traffic_Condition_2  \\\n",
      "0           False        False        False                False   \n",
      "1           False         True        False                False   \n",
      "2           False        False        False                False   \n",
      "3           False         True        False                 True   \n",
      "4           False        False        False                False   \n",
      "\n",
      "   Traffic_Condition_3  Weather_Condition_2  Weather_Condition_3  \\\n",
      "0                False                False                False   \n",
      "1                False                False                False   \n",
      "2                 True                False                False   \n",
      "3                False                False                 True   \n",
      "4                False                 True                False   \n",
      "\n",
      "   Weather_Condition_4  \n",
      "0                 True  \n",
      "1                 True  \n",
      "2                False  \n",
      "3                False  \n",
      "4                False  \n",
      "\n",
      "[5 rows x 22 columns]\n",
      "\n",
      "New columns: Index(['Speed_kmh', 'Acceleration_ms2', 'Battery_State_%', 'Battery_Voltage_V',\n",
      "       'Battery_Temperature_C', 'Slope_%', 'Temperature_C', 'Humidity_%',\n",
      "       'Wind_Speed_ms', 'Tire_Pressure_psi', 'Vehicle_Weight_kg',\n",
      "       'Distance_Travelled_km', 'Energy_Consumption_kWh', 'Driving_Mode_2',\n",
      "       'Driving_Mode_3', 'Road_Type_2', 'Road_Type_3', 'Traffic_Condition_2',\n",
      "       'Traffic_Condition_3', 'Weather_Condition_2', 'Weather_Condition_3',\n",
      "       'Weather_Condition_4'],\n",
      "      dtype='object')\n"
     ]
    }
   ],
   "source": [
    "# --- Data Preprocessing ---\n",
    "\n",
    "\n",
    "df_processed = df.drop(['Timestamp', 'Vehicle_ID'], axis=1)\n",
    "print(\"Dropped Timestamp and Vehicle_ID columns.\")\n",
    "\n",
    "categorical_cols = ['Driving_Mode', 'Road_Type', 'Traffic_Condition', 'Weather_Condition']\n",
    "\n",
    "df_processed = pd.get_dummies(df_processed, columns=categorical_cols, prefix=categorical_cols, drop_first=True)\n",
    "print(\"Performed one-hot encoding on categorical columns.\")\n",
    "\n",
    "print(\"\\n--- Processed DataFrame (df_processed.head()) ---\")\n",
    "print(df_processed.head())\n",
    "\n",
    "print(\"\\nNew columns:\", df_processed.columns)"
   ]
  },
  {
   "cell_type": "code",
   "execution_count": null,
   "id": "6f1bc49a-e41a-4040-ac6c-03c6831ba7e0",
   "metadata": {},
   "outputs": [
    {
     "name": "stdout",
     "output_type": "stream",
     "text": [
      "Scatter plot 'energy_vs_speed_scatterplot.json' saved successfully.\n"
     ]
    }
   ],
   "source": [
    "import altair as alt\n",
    "import pandas as pd\n",
    "\n",
    "\n",
    "\n",
    "# --- EDA Visualization: Speed vs. Energy ---\n",
    "\n",
    "speed_chart = alt.Chart(df_processed).mark_circle(opacity=0.5).encode(\n",
    "    x=alt.X('Speed_kmh', title='Speed (km/h)'),\n",
    "    y=alt.Y('Energy_Consumption_kWh', title='Energy Consumption (kWh)'),\n",
    "    tooltip=['Speed_kmh', 'Temperature_C', 'Energy_Consumption_kWh'] # Show these values on hover\n",
    ").properties(\n",
    "    title='Energy Consumption vs. Speed'\n",
    ").interactive() \n",
    "speed_chart.save('energy_speed_scatter_plot.json')\n",
    "\n",
    "print(\"Scatter plot 'energy_speed_scatter_plot.json' saved successfully.\")"
   ]
  },
  {
   "cell_type": "code",
   "execution_count": null,
   "id": "303eea17-b6fc-4093-aea1-738873d5f10f",
   "metadata": {},
   "outputs": [
    {
     "name": "stdout",
     "output_type": "stream",
     "text": [
      "Dropped Timestamp and Vehicle_ID columns.\n",
      "Performed one-hot encoding on categorical columns.\n",
      "\n",
      "--- Processed DataFrame (df_processed.head()) ---\n",
      "    Speed_kmh  Acceleration_ms2  Battery_State_%  Battery_Voltage_V  \\\n",
      "0  111.507366         -2.773816        30.415148         378.091525   \n",
      "1   48.612323         -0.796982        97.385534         392.718377   \n",
      "2  108.733320          0.253800        84.912600         398.993495   \n",
      "3   38.579484         -2.111395        28.777904         358.128273   \n",
      "4   57.172438          1.477883        29.740160         310.888162   \n",
      "\n",
      "   Battery_Temperature_C   Slope_%  Temperature_C  Humidity_%  Wind_Speed_ms  \\\n",
      "0              25.314786  6.879446       0.741770   42.172533       7.829253   \n",
      "1              18.240755 -3.007212      -3.495516   57.018427       4.495572   \n",
      "2              44.449145  0.029585       9.248275   69.028911       5.144489   \n",
      "3              28.980155  8.271943       2.868409   86.638349       4.518283   \n",
      "4              33.184551  2.776814      16.750244   27.189185       4.263406   \n",
      "\n",
      "   Tire_Pressure_psi  ...  Energy_Consumption_kWh  Driving_Mode_2  \\\n",
      "0          31.112020  ...               12.054317            True   \n",
      "1          31.504366  ...                4.488701           False   \n",
      "2          33.838015  ...               11.701377           False   \n",
      "3          33.256014  ...                7.389266           False   \n",
      "4          33.579678  ...                6.761205            True   \n",
      "\n",
      "   Driving_Mode_3  Road_Type_2  Road_Type_3  Traffic_Condition_2  \\\n",
      "0           False        False        False                False   \n",
      "1           False         True        False                False   \n",
      "2           False        False        False                False   \n",
      "3           False         True        False                 True   \n",
      "4           False        False        False                False   \n",
      "\n",
      "   Traffic_Condition_3  Weather_Condition_2  Weather_Condition_3  \\\n",
      "0                False                False                False   \n",
      "1                False                False                False   \n",
      "2                 True                False                False   \n",
      "3                False                False                 True   \n",
      "4                False                 True                False   \n",
      "\n",
      "   Weather_Condition_4  \n",
      "0                 True  \n",
      "1                 True  \n",
      "2                False  \n",
      "3                False  \n",
      "4                False  \n",
      "\n",
      "[5 rows x 22 columns]\n"
     ]
    }
   ],
   "source": [
    "# --- Data Preprocessing ---\n",
    "\n",
    "\n",
    "df_processed = df.drop(['Timestamp', 'Vehicle_ID'], axis=1)\n",
    "print(\"Dropped Timestamp and Vehicle_ID columns.\")\n",
    "\n",
    "categorical_cols = ['Driving_Mode', 'Road_Type', 'Traffic_Condition', 'Weather_Condition']\n",
    "\n",
    "df_processed = pd.get_dummies(df_processed, columns=categorical_cols, prefix=categorical_cols, drop_first=True)\n",
    "print(\"Performed one-hot encoding on categorical columns.\")\n",
    "\n",
    "\n",
    "print(\"\\n--- Processed DataFrame (df_processed.head()) ---\")\n",
    "print(df_processed.head())"
   ]
  },
  {
   "cell_type": "code",
   "execution_count": null,
   "id": "40e6a23e-e7b5-43eb-842e-ac5eb6950dd3",
   "metadata": {},
   "outputs": [],
   "source": []
  }
 ],
 "metadata": {
  "kernelspec": {
   "display_name": "Python 3 (ipykernel)",
   "language": "python",
   "name": "python3"
  },
  "language_info": {
   "codemirror_mode": {
    "name": "ipython",
    "version": 3
   },
   "file_extension": ".py",
   "mimetype": "text/x-python",
   "name": "python",
   "nbconvert_exporter": "python",
   "pygments_lexer": "ipython3",
   "version": "3.13.7"
  }
 },
 "nbformat": 4,
 "nbformat_minor": 5
}
